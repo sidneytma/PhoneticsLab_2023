{
 "cells": [
  {
   "cell_type": "markdown",
   "id": "95d7948c",
   "metadata": {},
   "source": [
    "# Finding Mismatched Files\n",
    "#### 10/17/23"
   ]
  },
  {
   "cell_type": "markdown",
   "id": "5895aa35",
   "metadata": {},
   "source": [
    "The experiment isn't running because it searches for files that don't exist. Which files is it searching for?"
   ]
  },
  {
   "cell_type": "code",
   "execution_count": 1,
   "id": "61095510",
   "metadata": {},
   "outputs": [],
   "source": [
    "import os\n",
    "import pandas as pd"
   ]
  },
  {
   "cell_type": "code",
   "execution_count": 2,
   "id": "621aa9d9",
   "metadata": {},
   "outputs": [],
   "source": [
    "# Get available files\n",
    "stimuli_dir = '/users/sidneyma/desktop/school/lign199/stimuli/'\n",
    "stimuli_files = os.listdir(stimuli_dir)"
   ]
  },
  {
   "cell_type": "code",
   "execution_count": 3,
   "id": "e68aaf44",
   "metadata": {
    "scrolled": true
   },
   "outputs": [],
   "source": [
    "# Get requested files\n",
    "df = pd.read_excel('conditions.xlsx')\n",
    "conditions_files = df['file'].to_list()"
   ]
  },
  {
   "cell_type": "code",
   "execution_count": 4,
   "id": "e6c7d09f",
   "metadata": {},
   "outputs": [
    {
     "data": {
      "text/plain": [
       "{'mg_Madison_ogcreaky.wav',\n",
       " 'mg_Madison_ogmodal.wav',\n",
       " 'mg_Ramona_ogmodal.wav',\n",
       " 'mg_Romeo_ogmodal.wav',\n",
       " nan}"
      ]
     },
     "execution_count": 4,
     "metadata": {},
     "output_type": "execute_result"
    }
   ],
   "source": [
    "# Which requested files are not available?\n",
    "set(conditions_files) - set(stimuli_files)"
   ]
  },
  {
   "cell_type": "markdown",
   "id": "ba56201c",
   "metadata": {},
   "source": [
    "Checking through the main spreadsheet, this is right. It was just an issue of case (mis)match -– all the names should be lowercase."
   ]
  }
 ],
 "metadata": {
  "kernelspec": {
   "display_name": "Python 3 (ipykernel)",
   "language": "python",
   "name": "python3"
  },
  "language_info": {
   "codemirror_mode": {
    "name": "ipython",
    "version": 3
   },
   "file_extension": ".py",
   "mimetype": "text/x-python",
   "name": "python",
   "nbconvert_exporter": "python",
   "pygments_lexer": "ipython3",
   "version": "3.11.4"
  }
 },
 "nbformat": 4,
 "nbformat_minor": 5
}
