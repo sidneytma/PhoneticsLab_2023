{
 "cells": [
  {
   "cell_type": "markdown",
   "id": "5b0ec47d",
   "metadata": {},
   "source": [
    "# Finding Time-to-Targets\n",
    "#### 10/29/23"
   ]
  },
  {
   "cell_type": "markdown",
   "id": "99f3773b",
   "metadata": {},
   "source": [
    "One of the questions that Kai and I are interested in examining is whether or not listeners are quicker to respond correctly to modal voice than creaky voice. To do this, we'll need to collect the participants' reaction times. We already have the _response time_ (the duration between when the audio file starts playing and when the participant answers), but we're more interested in getting the response time after the participant hears the target word. To be specific:\n",
    "\n",
    "`reaction_time` = `response_time` - `time_to_target`\n",
    "\n",
    "Unfortunately, we don't have all the time-to-targets, so we'll have to manually fill in the gaps."
   ]
  },
  {
   "cell_type": "markdown",
   "id": "e6eac6e9",
   "metadata": {},
   "source": [
    "## Strategy\n",
    "\n",
    "To get the time-to-targets of each audio file, we will:\n",
    "1) Annotate the pre-target duration, and save the annotation in a TextGrid file. \n",
    "2) Save the durations of each annotation to a csv file.\n",
    "\n",
    "The first step can't be automated, since finding the target is really hard and a bit of a subjective process. However, it can be done relatively quickly with some Praat code. The second should be much easier."
   ]
  },
  {
   "cell_type": "markdown",
   "id": "95949250",
   "metadata": {},
   "source": [
    "## TextGrid annotation\n",
    "\n",
    "Maxine has a basic TextGrid annotator script that we can use. Here's basically what it does:\n",
    "- Prompt the user for a directory with .wav files\n",
    "- For each .wav file,\n",
    "    - Prepare a .TextGrid file with the same basename (unless it already exists; skip if so)\n",
    "    - Let the user view and edit the file\n",
    "    - Prompt the user to create an annotated boundary\n",
    "    - Save the annotation to the TextGrid file"
   ]
  },
  {
   "cell_type": "code",
   "execution_count": 1,
   "id": "ac3ae2c6",
   "metadata": {},
   "outputs": [],
   "source": [
    "praat_script = \"\"\"\n",
    "procedure getTextGrid: .wav$\n",
    "    .path$ = replace$: .wav$, \".wav\", \".TextGrid\", 0\n",
    "\n",
    "    if !fileReadable: .path$\n",
    "        .textgrid = To TextGrid: tiers$, point_tiers$\n",
    "\n",
    "    elif if_TextGrid_already_exists == 2\n",
    "        .textgrid = To TextGrid: tiers$, point_tiers$\n",
    "        .default$ = mid$: .path$, rindex (.path$, \"/\") + 1, length (.path$)\n",
    "        .default$ = replace$: .default$, \".wav\", \".TextGrid\", 1\n",
    "\n",
    "        .path$ = chooseWriteFile$: \"TextGrid already exists in folder. \n",
    "        ... Choose where to save the new TextGrid.\", .default$\n",
    "\n",
    "    elif if_TextGrid_already_exists == 3\n",
    "        .textgrid = Read from file: .path$\n",
    "\n",
    "    endif\n",
    "\n",
    "endproc\n",
    "\n",
    "procedure getFiles: .dir$, .ext$\n",
    "    .obj = Create Strings as file list: \"files\", .dir$ + \"/*\" + .ext$\n",
    "    .length = Get number of strings\n",
    "\n",
    "    for .i to .length\n",
    "        .fname$ = Get string: .i\n",
    "        .files$ [.i] = .dir$ + \"/\" + .fname$\n",
    "\n",
    "    endfor\n",
    "\n",
    "    removeObject: .obj\n",
    "\n",
    "endproc\n",
    "\n",
    "## MAIN\n",
    "directory$ = chooseDirectory$: \"Choose a directory with wav files to annotate.\"\n",
    "\n",
    "form Arguments\n",
    "    sentence Interval_tiers vowel\n",
    "    sentence Point_tiers \n",
    "    optionmenu If_TextGrid_already_exists: 1\n",
    "        option skip the wav file\n",
    "        option create a new TextGrid\n",
    "        option open the existing TextGrid\n",
    "    comment Press OK to choose the directory of wav files to annotate.\n",
    "endform\n",
    "\n",
    "tiers$ = interval_tiers$ + \" \" + point_tiers$\n",
    "@getFiles: directory$, \".wav\"\n",
    "\n",
    "for i to getFiles.length\n",
    "    wav = Read from file: getFiles.files$ [i]\n",
    "\n",
    "    @getTextGrid: getFiles.files$ [i]\n",
    "\n",
    "    if !fileReadable (getTextGrid.path$) or if_TextGrid_already_exists > 1\n",
    "        selectObject: wav, getTextGrid.textgrid\n",
    "\n",
    "        View & Edit\n",
    "\n",
    "        beginPause: \"Annotation\"\n",
    "            comment: \"Press OK when done to save.\"\n",
    "\n",
    "        endPause: \"OK\", 0\n",
    "\n",
    "        selectObject: getTextGrid.textgrid\n",
    "        Save as text file: getTextGrid.path$\n",
    "\n",
    "        removeObject: getTextGrid.textgrid\n",
    "\n",
    "    endif\n",
    "\n",
    "    removeObject: wav\n",
    "endfor\n",
    "\"\"\""
   ]
  },
  {
   "cell_type": "markdown",
   "id": "6d25da12",
   "metadata": {},
   "source": [
    "There are two things I want to do differently. Firstly, I want to save the TextGrids in a separate folder. This will make it much easier to loop through all of them later. Secondly, I want to print out the name of the annotation so I can copy and paste instead of typing (typing is tedious and easy to get wrong):"
   ]
  },
  {
   "cell_type": "code",
   "execution_count": 2,
   "id": "25363410",
   "metadata": {},
   "outputs": [],
   "source": [
    "praat_script = \"\"\"\n",
    "procedure getTextGrid: .wav$\n",
    "\n",
    "    # The folder I want to save the TextGrids to is \"stimulus_textgrids\"\n",
    "    .path_temp$ = replace$: .wav$, \".wav\", \".TextGrid\", 0\n",
    "\t.path$ = replace$: .path_temp$, \"stimuli\", \"stimulus_textgrids\", 0\n",
    "\n",
    "\t.basename_temp$ = replace$: .path$, \"/Users/sidneyma/Desktop/school/lign199/stimulus_textgrids/\", \"\", 0\n",
    "\t.basename$ = replace$: .basename_temp$, \".TextGrid\", \"\", 0\n",
    "    # Print the basename so I can copy and paste it as the annotation\n",
    "\twriteInfoLine: .basename$\n",
    "\n",
    "    ...\n",
    "\n",
    "endproc\n",
    "\"\"\""
   ]
  },
  {
   "cell_type": "markdown",
   "id": "3573f92a",
   "metadata": {},
   "source": [
    "Using this script, I was able to annotate all 495 files in about one hour. Definitely tedious, but probably the most efficient way to collect all the TextGrids."
   ]
  },
  {
   "cell_type": "markdown",
   "id": "7ce33c65",
   "metadata": {},
   "source": [
    "## Duration logging\n",
    "\n",
    "Now that we have all the TextGrid files, we can automatically collect the time-to-targets by logging the durations of the annotations we made. I decided to do this using Python's `praatio` module:"
   ]
  },
  {
   "cell_type": "code",
   "execution_count": 3,
   "id": "595bb799",
   "metadata": {},
   "outputs": [],
   "source": [
    "import pandas as pd\n",
    "\n",
    "import os\n",
    "import praatio\n",
    "from praatio import tgio"
   ]
  },
  {
   "cell_type": "code",
   "execution_count": 4,
   "id": "1440f6f5",
   "metadata": {},
   "outputs": [],
   "source": [
    "def get_duration(textgrid_path, annotation):\n",
    "    \n",
    "    tg = tgio.openTextgrid(textgrid_path)\n",
    "    first_tier = tg.tierDict[tg.tierNameList[0]]\n",
    "    \n",
    "    for entry in first_tier.entryList:\n",
    "        start_time, end_time, label = entry\n",
    "        if label == annotation:\n",
    "            return round(end_time - start_time, 3)"
   ]
  },
  {
   "cell_type": "markdown",
   "id": "6a34f6e2",
   "metadata": {},
   "source": [
    "Let's find the durations of each file, and save this information into a csv-convertible txt file:"
   ]
  },
  {
   "cell_type": "code",
   "execution_count": 5,
   "id": "540b4cae",
   "metadata": {},
   "outputs": [],
   "source": [
    "dir_name = '/Users/sidneyma/Desktop/school/lign199'\n",
    "\n",
    "# Name this file to 'durations.txt'\n",
    "text_file_path = os.path.join(dir_name, 'durations.txt')\n",
    "    \n",
    "with open(text_file_path, 'w') as file:\n",
    "    file.write('file, time_to_target\\n')\n",
    "    \n",
    "dir_name = os.path.join(dir_name, 'stimulus_textgrids')\n",
    "\n",
    "for file in os.listdir(dir_name):\n",
    "    if file.endswith('.TextGrid'):\n",
    "        file_path = os.path.join(dir_name, file)\n",
    "        annotation = file.replace('.TextGrid', '')\n",
    "        duration = get_duration(file_path, annotation)\n",
    "        \n",
    "        with open(text_file_path, 'a') as txt_file:\n",
    "            txt_file.write(f\"{annotation}, {duration}\\n\")"
   ]
  },
  {
   "cell_type": "code",
   "execution_count": 6,
   "id": "f7779ece",
   "metadata": {
    "scrolled": false
   },
   "outputs": [
    {
     "name": "stdout",
     "output_type": "stream",
     "text": [
      "file, time_to_target\n",
      "at_nodish_oppname_mc, 1.755\n",
      "bl_nocake_cm, 2.5\n",
      "at_nocake_mg, 1.63\n",
      "SC_nowax_mc, 1.917\n",
      "SC_nowish_cm, 2.078\n",
      "sc_nocake_mm, 1.836\n",
      "SC_mypod_mg, 2.089\n",
      "bl_iheat_cc, 2.219\n",
      "SC_mysmoke_cm, 2.157\n",
      "at_mypog_cm, 1.81\n",
      "SC_myyoke_cm, 1.897\n",
      "at_nocatch_mm, 1.84\n",
      "sc_mypog_oppname_cg, 2.123\n",
      "at_noweight ...\n"
     ]
    }
   ],
   "source": [
    "f = open(text_file_path, 'r')\n",
    "print(f.read()[:300], '...')"
   ]
  },
  {
   "cell_type": "markdown",
   "id": "14ecbd4b",
   "metadata": {},
   "source": [
    "Perfect - now we have all the durations! Once necessary, we'll just convert `durations.txt` to a csv file."
   ]
  }
 ],
 "metadata": {
  "kernelspec": {
   "display_name": "Python 3 (ipykernel)",
   "language": "python",
   "name": "python3"
  },
  "language_info": {
   "codemirror_mode": {
    "name": "ipython",
    "version": 3
   },
   "file_extension": ".py",
   "mimetype": "text/x-python",
   "name": "python",
   "nbconvert_exporter": "python",
   "pygments_lexer": "ipython3",
   "version": "3.11.4"
  }
 },
 "nbformat": 4,
 "nbformat_minor": 5
}
